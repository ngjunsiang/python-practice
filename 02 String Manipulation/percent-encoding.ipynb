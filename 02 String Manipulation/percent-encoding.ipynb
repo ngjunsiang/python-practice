{
 "cells": [
  {
   "cell_type": "markdown",
   "metadata": {},
   "source": [
    "# Percent encoding\n",
    "\n",
    "Some strings only allow a limited subset of characters to be used. For example, a URL (Uniform Resource Locator) only allows the following characters:\n",
    "\n",
    "`A B C D E F G H I J K L M N O P Q R S T U V W X Y Z a b c d e f g h i j k l m n o p q r s t u v w x y z 0 1 2 3 4 5 6 7 8 9 - _ . ~`\n",
    "\n",
    "URLs may not use the following **reserved** characters:\n",
    "\n",
    "`! * ' ( ) ; : @ & = + $ , / ? % # [ ]`\n",
    "\n",
    "These reserved characters need to encoded in a special way.\n",
    "\n",
    "## Encoding reserved characters\n",
    "\n",
    "The following procedure is used to encode a reserved character:\n",
    "\n",
    "1. Convert the character to its character code (`ord()` function in Python).\n",
    "2. Convert the character code to its hex value (`hex()` function in Python)\n",
    "3. Add a `%` in front of the hex value.\n",
    "\n",
    "## Task\n",
    "\n",
    "Create a function, `percentEncode(string)`, that takes in a string and returns it in percent-encoded form. Disallowed characters (neither allowed nor reserved) should be removed, and reserved characters should be encoded.\n",
    "\n",
    "### Example output:\n",
    "\n",
    "    >>> percentEncode(\"!*'();:@&=+$,/?%#[]\")\n",
    "    '%21%2A%27%28%29%3B%3A%40%26%3D%2B%24%2C%2F%3F%25%23%5B%5D'"
   ]
  },
  {
   "cell_type": "code",
   "execution_count": null,
   "metadata": {},
   "outputs": [],
   "source": [
    "# Write your code here"
   ]
  }
 ],
 "metadata": {
  "kernelspec": {
   "display_name": "Python 3",
   "language": "python",
   "name": "python3"
  },
  "language_info": {
   "codemirror_mode": {
    "name": "ipython",
    "version": 3
   },
   "file_extension": ".py",
   "mimetype": "text/x-python",
   "name": "python",
   "nbconvert_exporter": "python",
   "pygments_lexer": "ipython3",
   "version": "3.6.4"
  }
 },
 "nbformat": 4,
 "nbformat_minor": 2
}
