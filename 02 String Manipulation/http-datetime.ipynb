{
 "cells": [
  {
   "cell_type": "markdown",
   "metadata": {},
   "source": [
    "# HTTP datetime\n",
    "\n",
    "When a web browser makes an HTTP request to a server, the HTTP protocol specifies a datetime format that must be followed: [RFC 2616](https://tools.ietf.org/html/rfc2616#section-3.3).\n",
    "\n",
    "Write a program that will generate the current time in this format.\n",
    "\n",
    "### Example output:\n",
    "\n",
    "    Sun, 06 Nov 1994 08:49:37 GMT\n",
    "    Wed, 08 Jul 2020 10:25:28 GMT\n",
    "\n",
    "**\\* Note that all timestamps must be converted to GMT time zone.**"
   ]
  },
  {
   "cell_type": "code",
   "execution_count": null,
   "metadata": {},
   "outputs": [],
   "source": [
    "# Type your code here"
   ]
  }
 ],
 "metadata": {
  "kernelspec": {
   "display_name": "Python 3",
   "language": "python",
   "name": "python3"
  },
  "language_info": {
   "codemirror_mode": {
    "name": "ipython",
    "version": 3
   },
   "file_extension": ".py",
   "mimetype": "text/x-python",
   "name": "python",
   "nbconvert_exporter": "python",
   "pygments_lexer": "ipython3",
   "version": "3.6.4"
  }
 },
 "nbformat": 4,
 "nbformat_minor": 2
}
