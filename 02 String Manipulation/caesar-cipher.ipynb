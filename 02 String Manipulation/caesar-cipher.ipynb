{
 "cells": [
  {
   "cell_type": "markdown",
   "metadata": {},
   "source": [
    "# Caesar cipher\n",
    "\n",
    "A Caesar cipher is an encryption method that replaces each plaintext letter with a letter some fixed number of positions down the alphabet. The method is named after Julius Caesar, who used it in his private correspondence.\n",
    "\n",
    "For example, a 5-letter shift results in `'a'` being replaced with `'f'`, `'b'` being replaced with `'g'`, `'y'` being replaced with `'d'`, etc.\n",
    "\n",
    "## Task\n",
    "\n",
    "Implement the Caesar cipher as a class, `CaesarCipher`. The class should be instantiated with an integer that represents the number of positions to shift each letter.\n",
    "\n",
    "The class should implement two methods:\n",
    "\n",
    "- `encode()`, which takes in a plaintext string and returns it in encoded form\n",
    "- `decode()`, which takes in an encoded string and returns it in decoded form\n",
    "\n",
    "Punctuation and other symbols should not be shifted.\n",
    "\n",
    "### Example output:\n",
    "\n",
    "    >>> cipher = CaesarCipher(7)\n",
    "    >>> inputstr = 'If he had anything confidential to say, he wrote it in cipher, that is, by so changing the order of the letters of the alphabet, that not a word could be made out.'\n",
    "    >>> encodedstr = cipher.encode(inputstr)\n",
    "    >>> encodedstr\n",
    "    'Pm ol ohk hufaopun jvumpkluaphs av zhf, ol dyval pa pu jpwoly, aoha pz, if zv johunpun aol vykly vm aol slaalyz vm aol hswohila, aoha uva h dvyk jvbsk il thkl vba.'\n",
    "    >>> cipher.decode(encodedstr)\n",
    "    'If he had anything confidential to say, he wrote it in cipher, that is, by so changing the order of the letters of the alphabet, that not a word could be made out.'\n",
    "\n",
    "**\\* Tip: You can use `ord()` to convert a string character to its ASCII character code (integer), and `chr()` to convert a character code back to its letter representation.\n",
    "\n",
    "### Extended challenge\n",
    "\n",
    "1. Add a keyword argument, `matchcase=` that preserves the case of each character if set to `True`.\n",
    "2. Implement the character-shifting code using a Queue data structure. You may use a Circular Linked List to allow the Queue to loop back to the start after the last character."
   ]
  },
  {
   "cell_type": "code",
   "execution_count": null,
   "metadata": {},
   "outputs": [],
   "source": [
    "# Type your code here"
   ]
  }
 ],
 "metadata": {
  "kernelspec": {
   "display_name": "Python 3",
   "language": "python",
   "name": "python3"
  },
  "language_info": {
   "codemirror_mode": {
    "name": "ipython",
    "version": 3
   },
   "file_extension": ".py",
   "mimetype": "text/x-python",
   "name": "python",
   "nbconvert_exporter": "python",
   "pygments_lexer": "ipython3",
   "version": "3.6.4"
  }
 },
 "nbformat": 4,
 "nbformat_minor": 2
}
