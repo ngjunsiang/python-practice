{
 "cells": [
  {
   "cell_type": "markdown",
   "metadata": {},
   "source": [
    "## Multiplication table\n",
    "\n",
    "Write a function that prints the multiplication table. Each cell of the table should be right-aligned, with at least a space between columns.\n",
    "\n",
    "**Bonus 1:** The function should take in a parameter `n` that determines how many rows and columns the table would have.\n",
    "\n",
    "**Bonus 2:** The function should print dividers between the row and column headers.\n",
    "\n",
    "#### Example output\n",
    "\n",
    "    >> mult_table(12)\n",
    "        1  2  3  4  5  6  7  8  9 10 11 12\n",
    "      +-----------------------------------\n",
    "     1| 1  2  3  4  5  6  7  8  9 10 11 12\n",
    "     2| 2  4  6  8 10 12 14 16 18 20 22 24\n",
    "     3| 3  6  9 12 15 18 21 24 27 30 33 36\n",
    "     ..."
   ]
  },
  {
   "cell_type": "code",
   "execution_count": null,
   "metadata": {},
   "outputs": [],
   "source": [
    "# Type your code here"
   ]
  }
 ],
 "metadata": {
  "kernelspec": {
   "display_name": "Python 3",
   "language": "python",
   "name": "python3"
  },
  "language_info": {
   "codemirror_mode": {
    "name": "ipython",
    "version": 3
   },
   "file_extension": ".py",
   "mimetype": "text/x-python",
   "name": "python",
   "nbconvert_exporter": "python",
   "pygments_lexer": "ipython3",
   "version": "3.8.3"
  }
 },
 "nbformat": 4,
 "nbformat_minor": 2
}
