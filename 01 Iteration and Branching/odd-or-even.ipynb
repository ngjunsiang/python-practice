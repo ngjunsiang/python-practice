{
 "cells": [
  {
   "cell_type": "markdown",
   "metadata": {},
   "source": [
    "## Odd or Even\n",
    "\n",
    "### Task 1\n",
    "\n",
    "Write a function `iseven()` that takes in an integer argument `n` and determines whether it is odd or even.\n",
    "\n",
    "The function should return `True` if `n` is even, and `False` if `n` is odd.\n",
    "\n",
    "#### Example output\n",
    "\n",
    "    >> iseven(4)\n",
    "    True\n",
    "    >> iseven(7)\n",
    "    False\n",
    "\n",
    "### Task 2\n",
    "\n",
    "Using the function `iseven()`, write a program that takes in user input and prints whether it is even or odd.\n",
    "\n",
    "#### Example output:\n",
    "\n",
    "    Input a number: 4\n",
    "    Even\n",
    "    Input a number: 7\n",
    "    Odd"
   ]
  },
  {
   "cell_type": "code",
   "execution_count": null,
   "metadata": {},
   "outputs": [],
   "source": [
    "# Type your code here"
   ]
  }
 ],
 "metadata": {
  "kernelspec": {
   "display_name": "Python 3",
   "language": "python",
   "name": "python3"
  },
  "language_info": {
   "codemirror_mode": {
    "name": "ipython",
    "version": 3
   },
   "file_extension": ".py",
   "mimetype": "text/x-python",
   "name": "python",
   "nbconvert_exporter": "python",
   "pygments_lexer": "ipython3",
   "version": "3.8.3"
  }
 },
 "nbformat": 4,
 "nbformat_minor": 2
}
